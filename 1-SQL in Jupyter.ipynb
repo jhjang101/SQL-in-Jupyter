{
 "cells": [
  {
   "cell_type": "markdown",
   "id": "4114a1b1-7081-4fa6-b2c7-b41a34f809c2",
   "metadata": {},
   "source": [
    "# SQL in Jupyter Notebook\n",
    "\n",
    "## Objectives\n",
    "\n",
    "* Create and access local database using sqlite3\n",
    "* Create a table\n",
    "* Insert data into the table\n",
    "* Query data from the table\n",
    "* Retrieve the result set into a pandas dataframe"
   ]
  },
  {
   "cell_type": "markdown",
   "id": "82c29762-efe1-4de7-bcad-ff6538b73fa8",
   "metadata": {
    "tags": []
   },
   "source": [
    "## Import Library\n",
    "\n",
    "[ipython-sql](https://pypi.org/project/ipython-sql/) introduces a %sql (or %%sql) magic to your notebook allowing you to connect to a database, using [SQLAlchemy](https://www.sqlalchemy.org/) connect strings, then issue SQL commands within IPython or IPython Notebook."
   ]
  },
  {
   "cell_type": "code",
   "execution_count": 1,
   "id": "a53a544b-4217-431f-acfe-98f2a355b94b",
   "metadata": {},
   "outputs": [],
   "source": [
    "# load the ipython-sql extension\n",
    "%load_ext sql\n",
    "import pandas as pd"
   ]
  },
  {
   "cell_type": "markdown",
   "id": "aabf3d04-7ca8-4d60-b1ce-caa9ba5fa790",
   "metadata": {},
   "source": [
    "## Create a SQLite Database\n",
    "\n",
    "SQLite connects to file-based databases, using the Python built-in module [sqlite3](https://docs.python.org/3/library/sqlite3.html) by default.\n",
    "\n",
    "As SQLite connects to local files, the URL format is slightly different. The “file” portion of the URL is the filename of the database. For a relative file path, this requires three slashes.\n",
    "\n",
    "Using the %sql magic from ipython-sql and connect strings from SQLAlchemy, we can create a SQLite database or connect it in case it already exists just like:"
   ]
  },
  {
   "cell_type": "code",
   "execution_count": 2,
   "id": "825f0fb9-e454-4ec0-ae37-612e6fee337d",
   "metadata": {},
   "outputs": [
    {
     "data": {
      "text/plain": [
       "'Connected: @mydb.db'"
      ]
     },
     "execution_count": 2,
     "metadata": {},
     "output_type": "execute_result"
    }
   ],
   "source": [
    "%sql sqlite:///mydb.db"
   ]
  },
  {
   "cell_type": "markdown",
   "id": "04156827-e873-45a1-bf64-b2d0c7c6e67c",
   "metadata": {
    "tags": []
   },
   "source": [
    "## Create a Table\n",
    "\n",
    "For convenience, we can use %%sql (two %'s instead of one) at the top of a cell to indicate we want the entire cell to be treated as SQL. \n",
    "\n",
    "Let's use this to create a table and fill it with some test data for experimenting.\n",
    "\n",
    "* If the table already existed in the database, an error will pop up. \n",
    "* Set **PRIMARY KEY** on **AlbumID** to prevent from inserting duplicate writers into the table."
   ]
  },
  {
   "cell_type": "code",
   "execution_count": 3,
   "id": "edc7002c-afd6-44b7-8f9a-d3b1ca625715",
   "metadata": {},
   "outputs": [
    {
     "name": "stdout",
     "output_type": "stream",
     "text": [
      " * sqlite:///mydb.db\n",
      "Done.\n"
     ]
    },
    {
     "data": {
      "text/plain": [
       "[]"
      ]
     },
     "execution_count": 3,
     "metadata": {},
     "output_type": "execute_result"
    }
   ],
   "source": [
    "%%sql\n",
    "CREATE TABLE ABBA(\n",
    "    AlbumID INTEGER NOT NULL PRIMARY KEY,\n",
    "    Title VARCHAR(50) NOT NULL,\n",
    "    Released INTEGER NOT NULL\n",
    ");"
   ]
  },
  {
   "cell_type": "markdown",
   "id": "a62e867a-41ce-48c7-9bda-a4e529a7fd6f",
   "metadata": {
    "tags": []
   },
   "source": [
    "## List Tables in a Database\n",
    "\n",
    "You can verify that the table creation was successful by retrieving the list of all tables"
   ]
  },
  {
   "cell_type": "code",
   "execution_count": 4,
   "id": "a7724b24-ada6-4d7d-8bcb-8a685cb010e9",
   "metadata": {},
   "outputs": [
    {
     "name": "stdout",
     "output_type": "stream",
     "text": [
      " * sqlite:///mydb.db\n",
      "Done.\n"
     ]
    },
    {
     "data": {
      "text/html": [
       "<table>\n",
       "    <thead>\n",
       "        <tr>\n",
       "            <th>name</th>\n",
       "        </tr>\n",
       "    </thead>\n",
       "    <tbody>\n",
       "        <tr>\n",
       "            <td>ABBA</td>\n",
       "        </tr>\n",
       "    </tbody>\n",
       "</table>"
      ],
      "text/plain": [
       "[('ABBA',)]"
      ]
     },
     "execution_count": 4,
     "metadata": {},
     "output_type": "execute_result"
    }
   ],
   "source": [
    "# Retrive table list \n",
    "%sql SELECT name FROM sqlite_master WHERE type='table'"
   ]
  },
  {
   "cell_type": "markdown",
   "id": "22cca89a-e51b-468c-bd36-7185adeaf620",
   "metadata": {
    "tags": []
   },
   "source": [
    "## Insert Data to the Table\n",
    "\n",
    "The table **ABBA** you created is empty. Let's insert some data to the table.\n",
    "\n",
    "* Title    Released    Sales\n",
    "* Ring Ring    1973    616627\n",
    "* Waterloo    1974    942473\n",
    "* ABBA    1975    1588000\n",
    "* Arrival    1976    6212100\n",
    "* Abba: The Album    1977    3377848\n",
    "* Voulez-Vous    1979    2710155\n",
    "* Super Trouper    1980    2249062\n",
    "* The Visitors    1981    1234802\n",
    "* Voyage    2021    1028000\n",
    "\n",
    "Insert Row AlbumID, Title,and Released"
   ]
  },
  {
   "cell_type": "code",
   "execution_count": 5,
   "id": "4cc7e8ea-a3b0-4adb-b0c7-9356fd7515b3",
   "metadata": {
    "tags": []
   },
   "outputs": [
    {
     "name": "stdout",
     "output_type": "stream",
     "text": [
      " * sqlite:///mydb.db\n",
      "9 rows affected.\n"
     ]
    },
    {
     "data": {
      "text/plain": [
       "[]"
      ]
     },
     "execution_count": 5,
     "metadata": {},
     "output_type": "execute_result"
    }
   ],
   "source": [
    "%%sql\n",
    "INSERT INTO ABBA \n",
    "(AlbumID, Title, Released)\n",
    "VALUES \n",
    "(1, 'Ring Ring', 1973),\n",
    "(2, 'Waterloo', 1974),\n",
    "(3, 'ABBA', 1975),\n",
    "(4, 'Arrival', 1976),\n",
    "(5, 'Abba: The Album', 1977),\n",
    "(6, 'Voulez-Vous', 1979),\n",
    "(7, 'Super Trouper', 1980),\n",
    "(8, 'The Visitors', 1981),\n",
    "(9, 'Voyage', 2021);"
   ]
  },
  {
   "cell_type": "markdown",
   "id": "ea2b9856-c6a7-4e3a-9ac7-470fc6ed4564",
   "metadata": {
    "tags": []
   },
   "source": [
    "Create a new column Sales and add data"
   ]
  },
  {
   "cell_type": "code",
   "execution_count": 6,
   "id": "79e4c634-b730-4741-b5e7-b52814e32ab1",
   "metadata": {
    "tags": []
   },
   "outputs": [
    {
     "name": "stdout",
     "output_type": "stream",
     "text": [
      " * sqlite:///mydb.db\n",
      "Done.\n"
     ]
    },
    {
     "data": {
      "text/plain": [
       "[]"
      ]
     },
     "execution_count": 6,
     "metadata": {},
     "output_type": "execute_result"
    }
   ],
   "source": [
    "%%sql\n",
    "ALTER TABLE ABBA\n",
    "ADD COLUMN Sales INTEGER;"
   ]
  },
  {
   "cell_type": "code",
   "execution_count": 7,
   "id": "ac6721de-c614-464b-98ed-a8f4b67ff30a",
   "metadata": {},
   "outputs": [
    {
     "name": "stdout",
     "output_type": "stream",
     "text": [
      " * sqlite:///mydb.db\n",
      "1 rows affected.\n",
      "1 rows affected.\n",
      "1 rows affected.\n",
      "1 rows affected.\n",
      "1 rows affected.\n",
      "1 rows affected.\n",
      "1 rows affected.\n",
      "1 rows affected.\n",
      "1 rows affected.\n"
     ]
    },
    {
     "data": {
      "text/plain": [
       "[]"
      ]
     },
     "execution_count": 7,
     "metadata": {},
     "output_type": "execute_result"
    }
   ],
   "source": [
    "%%sql\n",
    "UPDATE ABBA\n",
    "SET Sales = 616627\n",
    "WHERE Title = 'Ring Ring';\n",
    "\n",
    "UPDATE ABBA\n",
    "SET Sales = 942473\n",
    "WHERE Title = 'Waterloo';\n",
    "\n",
    "UPDATE ABBA\n",
    "SET Sales = 1588000\n",
    "WHERE Title = 'ABBA';\n",
    "\n",
    "UPDATE ABBA\n",
    "SET Sales = 6212100\n",
    "WHERE Title = 'Arrival';\n",
    "\n",
    "UPDATE ABBA\n",
    "SET Sales = 3377848\n",
    "WHERE Title = 'Abba: The Album';\n",
    "\n",
    "UPDATE ABBA\n",
    "SET Sales = 2710155\n",
    "WHERE Title = 'Voulez-Vous';\n",
    "\n",
    "UPDATE ABBA\n",
    "SET Sales = 2249062\n",
    "WHERE Title = 'Super Trouper';\n",
    "\n",
    "UPDATE ABBA\n",
    "SET Sales = 1234802\n",
    "WHERE Title = 'The Visitors';\n",
    "\n",
    "UPDATE ABBA\n",
    "SET Sales = 1028000\n",
    "WHERE Title = 'Voyage';"
   ]
  },
  {
   "cell_type": "markdown",
   "id": "32fb2ce2-afa7-4e2b-aabe-d506d27c62ac",
   "metadata": {
    "tags": []
   },
   "source": [
    "## Query Data in the Table\n",
    "\n",
    "You can verify that the table data you added. "
   ]
  },
  {
   "cell_type": "code",
   "execution_count": 8,
   "id": "603c9103-e1ff-4089-9a01-faf64e45c4f5",
   "metadata": {},
   "outputs": [
    {
     "name": "stdout",
     "output_type": "stream",
     "text": [
      " * sqlite:///mydb.db\n",
      "Done.\n"
     ]
    },
    {
     "data": {
      "text/plain": [
       "sql.run.ResultSet"
      ]
     },
     "execution_count": 8,
     "metadata": {},
     "output_type": "execute_result"
    }
   ],
   "source": [
    "#Select all columns from ABBA and save to abba\n",
    "abba = %sql SELECT * from ABBA\n",
    "type(abba)"
   ]
  },
  {
   "cell_type": "markdown",
   "id": "35843b90-6fd6-49b6-9993-ca2deff89342",
   "metadata": {},
   "source": [
    "You can use  %%sql and convert to Pandas DataFrame\n",
    "\n",
    "> When use %%sql whole cell will be treated as SQL and regular `# comment` is not working. In this case, you need to use `/*comment*/` just like SQL comment."
   ]
  },
  {
   "cell_type": "code",
   "execution_count": 9,
   "id": "b13d0004-7169-4452-be1b-2307efa6394d",
   "metadata": {
    "tags": []
   },
   "outputs": [
    {
     "name": "stdout",
     "output_type": "stream",
     "text": [
      " * sqlite:///mydb.db\n",
      "Done.\n",
      "Returning data to local variable result\n"
     ]
    }
   ],
   "source": [
    "%%sql result << \n",
    "/*Select all columns from ABBA and save to result*/\n",
    "SELECT * \n",
    "FROM ABBA;"
   ]
  },
  {
   "cell_type": "code",
   "execution_count": 10,
   "id": "f2067284-c4cf-417b-b4d6-03971923f42c",
   "metadata": {},
   "outputs": [
    {
     "data": {
      "text/html": [
       "<div>\n",
       "<style scoped>\n",
       "    .dataframe tbody tr th:only-of-type {\n",
       "        vertical-align: middle;\n",
       "    }\n",
       "\n",
       "    .dataframe tbody tr th {\n",
       "        vertical-align: top;\n",
       "    }\n",
       "\n",
       "    .dataframe thead th {\n",
       "        text-align: right;\n",
       "    }\n",
       "</style>\n",
       "<table border=\"1\" class=\"dataframe\">\n",
       "  <thead>\n",
       "    <tr style=\"text-align: right;\">\n",
       "      <th></th>\n",
       "      <th>AlbumID</th>\n",
       "      <th>Title</th>\n",
       "      <th>Released</th>\n",
       "      <th>Sales</th>\n",
       "    </tr>\n",
       "  </thead>\n",
       "  <tbody>\n",
       "    <tr>\n",
       "      <th>0</th>\n",
       "      <td>1</td>\n",
       "      <td>Ring Ring</td>\n",
       "      <td>1973</td>\n",
       "      <td>616627</td>\n",
       "    </tr>\n",
       "    <tr>\n",
       "      <th>1</th>\n",
       "      <td>2</td>\n",
       "      <td>Waterloo</td>\n",
       "      <td>1974</td>\n",
       "      <td>942473</td>\n",
       "    </tr>\n",
       "    <tr>\n",
       "      <th>2</th>\n",
       "      <td>3</td>\n",
       "      <td>ABBA</td>\n",
       "      <td>1975</td>\n",
       "      <td>1588000</td>\n",
       "    </tr>\n",
       "    <tr>\n",
       "      <th>3</th>\n",
       "      <td>4</td>\n",
       "      <td>Arrival</td>\n",
       "      <td>1976</td>\n",
       "      <td>6212100</td>\n",
       "    </tr>\n",
       "    <tr>\n",
       "      <th>4</th>\n",
       "      <td>5</td>\n",
       "      <td>Abba: The Album</td>\n",
       "      <td>1977</td>\n",
       "      <td>3377848</td>\n",
       "    </tr>\n",
       "  </tbody>\n",
       "</table>\n",
       "</div>"
      ],
      "text/plain": [
       "   AlbumID            Title  Released    Sales\n",
       "0        1        Ring Ring      1973   616627\n",
       "1        2         Waterloo      1974   942473\n",
       "2        3             ABBA      1975  1588000\n",
       "3        4          Arrival      1976  6212100\n",
       "4        5  Abba: The Album      1977  3377848"
      ]
     },
     "execution_count": 10,
     "metadata": {},
     "output_type": "execute_result"
    }
   ],
   "source": [
    "df = pd.DataFrame(result)\n",
    "df.head()"
   ]
  },
  {
   "cell_type": "code",
   "execution_count": 11,
   "id": "17ebcf0c-fd7d-4bf4-8b72-aa3a3363c528",
   "metadata": {},
   "outputs": [
    {
     "name": "stdout",
     "output_type": "stream",
     "text": [
      " * sqlite:///mydb.db\n",
      "Done.\n"
     ]
    },
    {
     "data": {
      "text/html": [
       "<table>\n",
       "    <thead>\n",
       "        <tr>\n",
       "            <th>AlbumID</th>\n",
       "            <th>Title</th>\n",
       "            <th>Released</th>\n",
       "            <th>Sales</th>\n",
       "        </tr>\n",
       "    </thead>\n",
       "    <tbody>\n",
       "        <tr>\n",
       "            <td>1</td>\n",
       "            <td>Ring Ring</td>\n",
       "            <td>1973</td>\n",
       "            <td>616627</td>\n",
       "        </tr>\n",
       "        <tr>\n",
       "            <td>2</td>\n",
       "            <td>Waterloo</td>\n",
       "            <td>1974</td>\n",
       "            <td>942473</td>\n",
       "        </tr>\n",
       "    </tbody>\n",
       "</table>"
      ],
      "text/plain": [
       "[(1, 'Ring Ring', 1973, 616627), (2, 'Waterloo', 1974, 942473)]"
      ]
     },
     "execution_count": 11,
     "metadata": {},
     "output_type": "execute_result"
    }
   ],
   "source": [
    "%sql SELECT * FROM ABBA LIMIT 2;"
   ]
  },
  {
   "cell_type": "code",
   "execution_count": 8,
   "id": "a84f0047-69b2-4ab1-8729-c8a1575b617e",
   "metadata": {},
   "outputs": [
    {
     "name": "stdout",
     "output_type": "stream",
     "text": [
      " * sqlite://\n",
      "Done.\n"
     ]
    },
    {
     "data": {
      "text/html": [
       "<table>\n",
       "    <thead>\n",
       "        <tr>\n",
       "            <th>COUNT(*)</th>\n",
       "        </tr>\n",
       "    </thead>\n",
       "    <tbody>\n",
       "        <tr>\n",
       "            <td>0</td>\n",
       "        </tr>\n",
       "    </tbody>\n",
       "</table>"
      ],
      "text/plain": [
       "[(0,)]"
      ]
     },
     "execution_count": 8,
     "metadata": {},
     "output_type": "execute_result"
    }
   ],
   "source": [
    "%sql SELECT COUNT(*) FROM ABBA"
   ]
  },
  {
   "cell_type": "code",
   "execution_count": 12,
   "id": "26c97913-2f06-454b-bd33-964a5f82a09a",
   "metadata": {},
   "outputs": [
    {
     "name": "stdout",
     "output_type": "stream",
     "text": [
      " * sqlite:///mydb.db\n",
      "Done.\n"
     ]
    },
    {
     "data": {
      "text/html": [
       "<table>\n",
       "    <thead>\n",
       "        <tr>\n",
       "            <th>MAX(Sales)</th>\n",
       "            <th>Title</th>\n",
       "        </tr>\n",
       "    </thead>\n",
       "    <tbody>\n",
       "        <tr>\n",
       "            <td>6212100</td>\n",
       "            <td>Arrival</td>\n",
       "        </tr>\n",
       "    </tbody>\n",
       "</table>"
      ],
      "text/plain": [
       "[(6212100, 'Arrival')]"
      ]
     },
     "execution_count": 12,
     "metadata": {},
     "output_type": "execute_result"
    }
   ],
   "source": [
    "%sql SELECT MAX(Sales), Title FROM ABBA;"
   ]
  },
  {
   "cell_type": "code",
   "execution_count": 13,
   "id": "7a16dc9f-f903-428a-9454-b21b79b9bcfd",
   "metadata": {},
   "outputs": [
    {
     "name": "stdout",
     "output_type": "stream",
     "text": [
      " * sqlite:///mydb.db\n",
      "Done.\n"
     ]
    },
    {
     "data": {
      "text/html": [
       "<table>\n",
       "    <thead>\n",
       "        <tr>\n",
       "            <th>AlbumID</th>\n",
       "            <th>Title</th>\n",
       "            <th>Released</th>\n",
       "            <th>Sales</th>\n",
       "        </tr>\n",
       "    </thead>\n",
       "    <tbody>\n",
       "        <tr>\n",
       "            <td>9</td>\n",
       "            <td>Voyage</td>\n",
       "            <td>2021</td>\n",
       "            <td>1028000</td>\n",
       "        </tr>\n",
       "    </tbody>\n",
       "</table>"
      ],
      "text/plain": [
       "[(9, 'Voyage', 2021, 1028000)]"
      ]
     },
     "execution_count": 13,
     "metadata": {},
     "output_type": "execute_result"
    }
   ],
   "source": [
    "%%sql \n",
    "SELECT * FROM ABBA \n",
    "WHERE Released = 2021;"
   ]
  },
  {
   "cell_type": "code",
   "execution_count": 14,
   "id": "094c22c7-80f1-40ec-82b6-35d227ea612c",
   "metadata": {},
   "outputs": [
    {
     "name": "stdout",
     "output_type": "stream",
     "text": [
      " * sqlite:///mydb.db\n",
      "Done.\n"
     ]
    },
    {
     "data": {
      "text/html": [
       "<table>\n",
       "    <thead>\n",
       "        <tr>\n",
       "            <th>COUNT(DISTINCT Title)</th>\n",
       "        </tr>\n",
       "    </thead>\n",
       "    <tbody>\n",
       "        <tr>\n",
       "            <td>9</td>\n",
       "        </tr>\n",
       "    </tbody>\n",
       "</table>"
      ],
      "text/plain": [
       "[(9,)]"
      ]
     },
     "execution_count": 14,
     "metadata": {},
     "output_type": "execute_result"
    }
   ],
   "source": [
    "%%sql \n",
    "SELECT COUNT(DISTINCT Title) FROM ABBA"
   ]
  }
 ],
 "metadata": {
  "kernelspec": {
   "display_name": "Python 3 (ipykernel)",
   "language": "python",
   "name": "python3"
  },
  "language_info": {
   "codemirror_mode": {
    "name": "ipython",
    "version": 3
   },
   "file_extension": ".py",
   "mimetype": "text/x-python",
   "name": "python",
   "nbconvert_exporter": "python",
   "pygments_lexer": "ipython3",
   "version": "3.9.13"
  }
 },
 "nbformat": 4,
 "nbformat_minor": 5
}
